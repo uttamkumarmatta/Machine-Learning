{
 "cells": [
  {
   "cell_type": "code",
   "execution_count": 5,
   "id": "5f938a70",
   "metadata": {},
   "outputs": [
    {
     "name": "stdout",
     "output_type": "stream",
     "text": [
      "ages:  [19, 22, 19, 24, 20, 25, 26, 24, 25, 24]\n",
      "sorted ages:  [19, 19, 20, 22, 24, 24, 24, 25, 25, 26]\n",
      "max:  26\n",
      "min:  19\n",
      "Modified ages:  [19, 19, 20, 22, 24, 24, 24, 25, 25, 26, 19, 26]\n",
      "median of ages:  24.0\n",
      "average of ages:  22.75\n",
      "range of ages:  7\n"
     ]
    }
   ],
   "source": [
    "#Question 1\n",
    "\n",
    "from statistics import median\n",
    "import math\n",
    "ages = [19, 22, 19, 24, 20, 25, 26, 24, 25, 24]\n",
    "print(\"ages: \",ages)\n",
    "#sort the ages list\n",
    "ages.sort()\n",
    "print(\"sorted ages: \",ages)\n",
    "#Find min and max from ages\n",
    "minimum=min(ages)\n",
    "maximum=max(ages)\n",
    "print(\"max: \",maximum)\n",
    "print(\"min: \",minimum)\n",
    "#add min and max again to the ages\n",
    "ages.append(minimum)\n",
    "ages.append(maximum)\n",
    "print(\"Modified ages: \",ages)\n",
    "#Find median of ages\n",
    "print(\"median of ages: \",median(ages))\n",
    "#Find average of ages\n",
    "print(\"average of ages: \",sum(ages)/len(ages))\n",
    "#Find range of ages\n",
    "print(\"range of ages: \",maximum-minimum)"
   ]
  },
  {
   "cell_type": "code",
   "execution_count": 9,
   "id": "84bf1071",
   "metadata": {},
   "outputs": [
    {
     "name": "stdout",
     "output_type": "stream",
     "text": [
      "dog dictionary:  {'name': 'Loki', 'color': 'Sable & White', 'breed': 'Husky', 'legs': 'Short', 'age': 1}\n",
      "Student dictionary:  9\n",
      "Value of skills:  ['Technical skills', 'Reading Books', 'Drawing']\n",
      "Type of the skills:  <class 'list'>\n",
      "Modified skills:  ['Technical skills', 'Reading Books', 'Drawing', 'Soft skills']\n",
      "keys:  dict_keys(['first_name', 'last_name', 'gender', 'age', 'marital status', 'skills', 'country', 'city', 'address'])\n",
      "Values:  dict_values(['Uttam', 'Matta', 'Male', 23, 'Single', ['Technical skills', 'Reading Books', 'Drawing', 'Soft skills'], 'India', 'Mumbai', 'plot no3, Mumbai , MB-500068'])\n"
     ]
    }
   ],
   "source": [
    "#Question 2\n",
    "\n",
    "#Create empty dictionary dog\n",
    "dog={}\n",
    "#Add name, color, breed, legs, age to the dog dictionary\n",
    "dog[\"name\"]=\"Loki\"\n",
    "dog[\"color\"]=\"Sable & White\"\n",
    "dog[\"breed\"]=\"Husky\"\n",
    "dog[\"legs\"]=\"Short\"\n",
    "dog[\"age\"]=1\n",
    "print(\"dog dictionary: \",dog)\n",
    "#Create a student dictionary and add first_name, last_name, gender, age, marital status,\n",
    "#skills, country, city and address as keys for the dictionary\n",
    "student=dict()\n",
    "student={\"first_name\":\"Uttam\",\"last_name\":\"Matta\",\"gender\":\"Male\",\"age\":23,\"marital status\":\"Single\",\n",
    "         \"skills\":[\"Technical skills\",\"Reading Books\",\"Drawing\"],\"country\":\"India\",\n",
    "         \"city\":\"Mumbai\",\"address\":\"plot no3, Mumbai , MB-500068\"}\n",
    "#Get the length of the student dictionary\n",
    "print(\"Student dictionary: \",len(student))\n",
    "#Get the value of skills and check the data type, it should be a list\n",
    "stu=student[\"skills\"]\n",
    "print(\"Value of skills: \",stu)\n",
    "print(\"Type of the skills: \",type(stu))\n",
    "#Modify the skills values by adding one or two skills\n",
    "stu.append(\"Soft skills\")\n",
    "print(\"Modified skills: \",student[\"skills\"])\n",
    "#Get the dictionary keys as a list\n",
    "print(\"keys: \",student.keys())\n",
    "#Get the dictionary values as a list\n",
    "print(\"Values: \",student.values())"
   ]
  },
  {
   "cell_type": "code",
   "execution_count": 10,
   "id": "0579c9f4",
   "metadata": {},
   "outputs": [
    {
     "name": "stdout",
     "output_type": "stream",
     "text": [
      "brothers tuple is:  ('Sampath', 'Bose', 'Himakar', 'Bharath', 'Suresh')\n",
      "sisters tuple is:  ('Bhargavi', 'Rajeshwari', 'Jahnavi', 'Akhila')\n",
      "siblings tuple is:  ('Sampath', 'Bose', 'Himakar', 'Bharath', 'Suresh', 'Bhargavi', 'Rajeshwari', 'Jahnavi', 'Akhila')\n",
      "How many siblings do you have? :-  9\n",
      "family_members tuple:  ('Sampath', 'Bose', 'Himakar', 'Bharath', 'Suresh', 'Bhargavi', 'Rajeshwari', 'Jahnavi', 'Akhila', 'Rakesh', 'Ramani')\n"
     ]
    }
   ],
   "source": [
    "#Question 3\n",
    "\n",
    "#Create a tuple containing names of your sisters and your brothers(imaginary siblings are\n",
    "#fine)\n",
    "\n",
    "siblings=tuple()\n",
    "brothers=(\"Sampath\",\"Bose\",\"Himakar\",\"Bharath\",\"Suresh\")\n",
    "sisters=(\"Bhargavi\",\"Rajeshwari\",\"Jahnavi\",\"Akhila\")\n",
    "print(\"brothers tuple is: \",brothers)\n",
    "print(\"sisters tuple is: \",sisters)\n",
    "#Join brothers and sisters tuples and assign it to siblings\n",
    "siblings=brothers+sisters\n",
    "print(\"siblings tuple is: \",siblings)\n",
    "#How many siblings do you have?\n",
    "print(\"How many siblings do you have? :- \",len(siblings))\n",
    "#Modify the siblings tuple and add the name of your father and mother and assign it to\n",
    "#family_members\n",
    "\n",
    "temp=list(siblings)\n",
    "temp.append(\"Rakesh\")\n",
    "temp.append(\"Ramani\")\n",
    "family_members=tuple(temp)\n",
    "print(\"family_members tuple: \",family_members)"
   ]
  },
  {
   "cell_type": "code",
   "execution_count": 11,
   "id": "403551c8",
   "metadata": {},
   "outputs": [
    {
     "name": "stdout",
     "output_type": "stream",
     "text": [
      "The length of the set it_companies:  7\n",
      "{'IBM', 'Apple', 'Oracle', 'Google', 'Twitter', 'Facebook', 'Microsoft', 'Amazon'}\n",
      "{'Apple', 'Oracle', 'Google', 'Twitter', 'Amazon', 'Wipro', 'IBM', 'VISA', 'Facebook', 'Target', 'Microsoft'}\n",
      "{'Apple', 'Oracle', 'Google', 'Twitter', 'Amazon', 'Wipro', 'IBM', 'Facebook', 'Target', 'Microsoft'}\n",
      "'The difference between remove and discard is if the item to be \n",
      "      deleted is not present in the set then discard raises an error where discard method will not raise an error.\n",
      "A union B is:  {19, 20, 22, 24, 25, 26, 27, 28}\n",
      "A intersection B is:  {19, 20, 22, 24, 25, 26}\n",
      "Is A subset of B True\n",
      "Are A and B disjoint sets False\n",
      "Join A with B:  {19, 20, 22, 24, 25, 26, 27, 28}\n",
      "Join B with A:  {19, 20, 22, 24, 25, 26, 27, 28}\n",
      "The symmetric difference between A and B set()\n",
      "set()\n",
      "set()\n",
      "set()\n",
      "ages set:  {19, 22, 24, 25, 26}\n",
      "length of ages list:  8\n",
      "length of ages set:  5\n"
     ]
    }
   ],
   "source": [
    "#Question 4\n",
    "\n",
    "it_companies = {'Facebook', 'Google', 'Microsoft', 'Apple', 'IBM', 'Oracle', 'Amazon'}\n",
    "A = {19, 22, 24, 20, 25, 26}\n",
    "B = {19, 22, 20, 25, 26, 24, 28, 27}\n",
    "age = [22, 19, 24, 25, 26, 24, 25, 24]\n",
    "print(\"The length of the set it_companies: \",len(it_companies))   #Find the length of the set it_companies\n",
    "it_companies.add(\"Twitter\") #Add 'Twitter' to it_companies\n",
    "print(it_companies)\n",
    "other={\"VISA\",\"Wipro\",\"Target\"}\n",
    "it_companies.update(other)       #Insert multiple IT companies at once to the set it_companies\n",
    "print(it_companies)\n",
    "it_companies.remove(\"VISA\")   #Remove one of the companies from the set it_companies\n",
    "print(it_companies)\n",
    "#What is the difference between remove and discard\n",
    "print(''''The difference between remove and discard is if the item to be \n",
    "      deleted is not present in the set then discard raises an error where discard method will not raise an error.''')\n",
    "temp=A.union(B)     #Join A and B\n",
    "print(\"A union B is: \",temp)\n",
    "temp=A.intersection(B)     #Find A intersection B\n",
    "print(\"A intersection B is: \",temp)\n",
    "print(\"Is A subset of B\",A.issubset(B))   #Is A subset of B\n",
    "print(\"Are A and B disjoint sets\",A.isdisjoint(B))   #Are A and B disjoint sets\n",
    "A.update(B)   #Join A with B\n",
    "print(\"Join A with B: \",A)\n",
    "B.update(A)   #Join B with A\n",
    "print(\"Join B with A: \",B)\n",
    "print(\"The symmetric difference between A and B\",A.symmetric_difference(B)) #What is the symmetric difference between A and B\n",
    "it_companies.clear(),A.clear(),B.clear()     #Delete the sets completely\n",
    "print(it_companies)\n",
    "print(A)\n",
    "print(B)\n",
    "age_set=set(age)   #Convert the ages to a set and compare the length of the list and the set.\n",
    "print(\"ages set: \",age_set)\n",
    "print(\"length of ages list: \",len(age))\n",
    "print(\"length of ages set: \",len(age_set))"
   ]
  },
  {
   "cell_type": "code",
   "execution_count": 13,
   "id": "aeb6d731",
   "metadata": {},
   "outputs": [
    {
     "name": "stdout",
     "output_type": "stream",
     "text": [
      "Enter radius of circle: 25\n",
      "area of circle:  1962.5\n",
      "circumference of circle:  157.0\n"
     ]
    }
   ],
   "source": [
    "#Question 5\n",
    "\n",
    "rad=int(input(\"Enter radius of circle: \"))\n",
    "#Calculate the area of a circle and assign the value to a variable name of _area_of_circle_\n",
    "_area_of_circle_=(3.14)*rad*rad\n",
    "print(\"area of circle: \",_area_of_circle_)\n",
    "#Calculate the circumference of a circle and assign the value to a variable name of\n",
    "_circum_of_circle_=(3.14)*rad*2\n",
    "print(\"circumference of circle: \",_circum_of_circle_)"
   ]
  },
  {
   "cell_type": "code",
   "execution_count": 14,
   "id": "45a126ad",
   "metadata": {},
   "outputs": [
    {
     "name": "stdout",
     "output_type": "stream",
     "text": [
      "No of unique words in the given sentence:  10\n"
     ]
    }
   ],
   "source": [
    "#Question 6\n",
    "\n",
    "text=\"I am a teacher and I love to inspire and teach people\"\n",
    "t=text.split(\" \")\n",
    "print(\"No of unique words in the given sentence: \",len(set(t)))"
   ]
  },
  {
   "cell_type": "code",
   "execution_count": 16,
   "id": "325436ea",
   "metadata": {},
   "outputs": [
    {
     "name": "stdout",
     "output_type": "stream",
     "text": [
      "Name\t\tAge\tCountry\tCity\n",
      "Asabeneh\t250\tFinland\tHelsinki\n"
     ]
    }
   ],
   "source": [
    "#Question 7\n",
    "\n",
    "print(\"Name\\t\\tAge\\tCountry\\tCity\\nAsabeneh\\t250\\tFinland\\tHelsinki\")"
   ]
  },
  {
   "cell_type": "code",
   "execution_count": 17,
   "id": "24fa1d5d",
   "metadata": {},
   "outputs": [
    {
     "name": "stdout",
     "output_type": "stream",
     "text": [
      "The area of a circle with radius 10 is 314.0 meters square\n"
     ]
    }
   ],
   "source": [
    "#Question 8\n",
    "\n",
    "#The string formatting method to display the following\n",
    "radius=10\n",
    "area=3.14*radius**2\n",
    "text=\"The area of a circle with radius {0} is {1} meters square\".format(radius,area)\n",
    "print(text)"
   ]
  },
  {
   "cell_type": "code",
   "execution_count": 18,
   "id": "e28d0423",
   "metadata": {},
   "outputs": [
    {
     "name": "stdout",
     "output_type": "stream",
     "text": [
      "Enter no of students: 10\n",
      "Enter weights in lbs\n",
      "160 123 154 120 145 179 100 110 145 90\n",
      "Weights in kgs:  [72.0, 55.35, 69.3, 54.0, 65.25, 80.55, 45.0, 49.5, 65.25, 40.5]\n"
     ]
    }
   ],
   "source": [
    "#Question 9\n",
    "\n",
    "N=int(input(\"Enter no of students: \"))\n",
    "print(\"Enter weights in lbs\")\n",
    "wts=list(map(int,input().split()))\n",
    "nwts=[]\n",
    "for i in wts:\n",
    "    nwts.append(i*0.45)\n",
    "print(\"Weights in kgs: \",nwts)"
   ]
  },
  {
   "cell_type": "code",
   "execution_count": null,
   "id": "818cd48b",
   "metadata": {},
   "outputs": [],
   "source": []
  }
 ],
 "metadata": {
  "kernelspec": {
   "display_name": "Python 3 (ipykernel)",
   "language": "python",
   "name": "python3"
  },
  "language_info": {
   "codemirror_mode": {
    "name": "ipython",
    "version": 3
   },
   "file_extension": ".py",
   "mimetype": "text/x-python",
   "name": "python",
   "nbconvert_exporter": "python",
   "pygments_lexer": "ipython3",
   "version": "3.9.13"
  }
 },
 "nbformat": 4,
 "nbformat_minor": 5
}
