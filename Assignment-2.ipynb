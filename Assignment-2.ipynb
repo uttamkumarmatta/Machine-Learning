{
 "cells": [
  {
   "cell_type": "code",
   "execution_count": 13,
   "id": "cf50c96b",
   "metadata": {},
   "outputs": [
    {
     "name": "stdout",
     "output_type": "stream",
     "text": [
      "*\n",
      "**\n",
      "***\n",
      "****\n",
      "*****\n",
      "****\n",
      "***\n",
      "**\n",
      "*\n"
     ]
    }
   ],
   "source": [
    "for u in range(1,6):\n",
    "    print(u*'*')\n",
    "   \n",
    "for u in range(4,0,-1):\n",
    "    print(u*'*')"
   ]
  },
  {
   "cell_type": "code",
   "execution_count": 14,
   "id": "b94ff3cb",
   "metadata": {},
   "outputs": [
    {
     "name": "stdout",
     "output_type": "stream",
     "text": [
      "20\n",
      "40\n",
      "60\n",
      "80\n",
      "100\n"
     ]
    }
   ],
   "source": [
    "my_list = [10,20,30,40,50,60,70,80,90,100]\n",
    "for m in range(1, len(my_list), 2):\n",
    "   print(my_list[m])"
   ]
  },
  {
   "cell_type": "code",
   "execution_count": 16,
   "id": "d9892398",
   "metadata": {},
   "outputs": [
    {
     "name": "stdout",
     "output_type": "stream",
     "text": [
      "<class 'int'>\n",
      "<class 'str'>\n",
      "<class 'float'>\n"
     ]
    }
   ],
   "source": [
    "z = [23, 'Python', 23.98]\n",
    "for m in z:\n",
    "    print(type(m))"
   ]
  },
  {
   "cell_type": "code",
   "execution_count": 17,
   "id": "21ea0d7f",
   "metadata": {},
   "outputs": [
    {
     "name": "stdout",
     "output_type": "stream",
     "text": [
      "[1, 2, 3, 4, 5]\n"
     ]
    }
   ],
   "source": [
    "l1= [1,2,3,3,3,3,4,5]\n",
    "l2=set(l1)\n",
    "#print(l2)\n",
    "l3=list(l2)\n",
    "print(l3)"
   ]
  },
  {
   "cell_type": "code",
   "execution_count": 18,
   "id": "8dd1f19f",
   "metadata": {},
   "outputs": [
    {
     "name": "stdout",
     "output_type": "stream",
     "text": [
      "No. of Lower-case characters: 12\n",
      "No. of Upper-case characters: 3\n"
     ]
    }
   ],
   "source": [
    "str1= 'The quick Brow Fox'\n",
    "l=0\n",
    "u=0\n",
    "\n",
    "for i in str1:\n",
    "    if i.isupper():\n",
    "        u=u+1\n",
    "    elif i.islower():\n",
    "        l=l+1\n",
    "print(\"No. of Lower-case characters:\",l)\n",
    "print(\"No. of Upper-case characters:\",u)"
   ]
  },
  {
   "cell_type": "code",
   "execution_count": null,
   "id": "d2010a4e",
   "metadata": {},
   "outputs": [],
   "source": []
  }
 ],
 "metadata": {
  "kernelspec": {
   "display_name": "Python 3 (ipykernel)",
   "language": "python",
   "name": "python3"
  },
  "language_info": {
   "codemirror_mode": {
    "name": "ipython",
    "version": 3
   },
   "file_extension": ".py",
   "mimetype": "text/x-python",
   "name": "python",
   "nbconvert_exporter": "python",
   "pygments_lexer": "ipython3",
   "version": "3.9.13"
  }
 },
 "nbformat": 4,
 "nbformat_minor": 5
}
